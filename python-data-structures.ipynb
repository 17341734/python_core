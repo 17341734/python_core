{
 "cells": [
  {
   "cell_type": "markdown",
   "metadata": {
    "id": "IZVZKw7vmkOG"
   },
   "source": [
    "# Python Data Structures"
   ]
  },
  {
   "cell_type": "markdown",
   "metadata": {
    "id": "ku-jWqPAmkOK"
   },
   "source": [
    "## Numeric Types "
   ]
  },
  {
   "cell_type": "markdown",
   "metadata": {
    "id": "HVgSK3gDmkOL"
   },
   "source": [
    "Every number, string, data structure, function, class, module, and so on exists as a Python object.\n",
    "<br> Most used numeric types : Integer and floating point numbers"
   ]
  },
  {
   "cell_type": "markdown",
   "metadata": {
    "id": "zLoJLhBkmkOM"
   },
   "source": [
    "numeric types are automatically understood by python"
   ]
  },
  {
   "cell_type": "code",
   "execution_count": 1,
   "metadata": {
    "executionInfo": {
     "elapsed": 2,
     "status": "ok",
     "timestamp": 1663407001492,
     "user": {
      "displayName": "sefer baday",
      "userId": "05968790297977678638"
     },
     "user_tz": -180
    },
    "id": "3L1gZAO9mkON"
   },
   "outputs": [],
   "source": [
    "x=7"
   ]
  },
  {
   "cell_type": "code",
   "execution_count": 2,
   "metadata": {
    "colab": {
     "base_uri": "https://localhost:8080/"
    },
    "executionInfo": {
     "elapsed": 3,
     "status": "ok",
     "timestamp": 1663407003764,
     "user": {
      "displayName": "sefer baday",
      "userId": "05968790297977678638"
     },
     "user_tz": -180
    },
    "id": "kqnODrf5mkOP",
    "outputId": "de24b3cc-400f-49b3-843f-ab5081acad0d"
   },
   "outputs": [
    {
     "data": {
      "text/plain": [
       "int"
      ]
     },
     "execution_count": 2,
     "metadata": {},
     "output_type": "execute_result"
    }
   ],
   "source": [
    "type(x)"
   ]
  },
  {
   "cell_type": "code",
   "execution_count": 3,
   "metadata": {
    "executionInfo": {
     "elapsed": 1112,
     "status": "ok",
     "timestamp": 1663407008769,
     "user": {
      "displayName": "sefer baday",
      "userId": "05968790297977678638"
     },
     "user_tz": -180
    },
    "id": "LjYcSVhrmkOR"
   },
   "outputs": [],
   "source": [
    "x=7.0"
   ]
  },
  {
   "cell_type": "code",
   "execution_count": 4,
   "metadata": {
    "colab": {
     "base_uri": "https://localhost:8080/"
    },
    "executionInfo": {
     "elapsed": 3,
     "status": "ok",
     "timestamp": 1663407012170,
     "user": {
      "displayName": "sefer baday",
      "userId": "05968790297977678638"
     },
     "user_tz": -180
    },
    "id": "g0X_hdpAmkOS",
    "outputId": "bcf64f00-cce1-41e6-bf50-2ea2ccd0f19b"
   },
   "outputs": [
    {
     "data": {
      "text/plain": [
       "float"
      ]
     },
     "execution_count": 4,
     "metadata": {},
     "output_type": "execute_result"
    }
   ],
   "source": [
    "type(x)"
   ]
  },
  {
   "cell_type": "code",
   "execution_count": 5,
   "metadata": {
    "id": "vghM6PuLmkOT"
   },
   "outputs": [],
   "source": [
    "x=3+1j"
   ]
  },
  {
   "cell_type": "code",
   "execution_count": 6,
   "metadata": {
    "id": "4kDIJ46fmkOU",
    "outputId": "7fcd0ce8-3dfb-4da0-aa61-c986448bfbce"
   },
   "outputs": [
    {
     "data": {
      "text/plain": [
       "complex"
      ]
     },
     "execution_count": 6,
     "metadata": {},
     "output_type": "execute_result"
    }
   ],
   "source": [
    "type(x)"
   ]
  },
  {
   "cell_type": "markdown",
   "metadata": {
    "id": "phgByW8jmkOU"
   },
   "source": [
    "## Strings "
   ]
  },
  {
   "cell_type": "markdown",
   "metadata": {
    "id": "DiHRNGZvmkOV"
   },
   "source": [
    "A string is a sequence of characters.\n",
    "<br> You can write strings using either single quotes ' or double quotes \""
   ]
  },
  {
   "cell_type": "code",
   "execution_count": 7,
   "metadata": {
    "id": "oFi6cDFGmkOV",
    "outputId": "82deb53a-1c5f-42c3-c158-dd94d566589c"
   },
   "outputs": [
    {
     "data": {
      "text/plain": [
       "'this is a string'"
      ]
     },
     "execution_count": 7,
     "metadata": {},
     "output_type": "execute_result"
    }
   ],
   "source": [
    "a=\"this is a string\";a"
   ]
  },
  {
   "cell_type": "code",
   "execution_count": 8,
   "metadata": {
    "id": "Eu4lTNUZmkOW",
    "outputId": "3a5eff47-ccd4-4e17-fa24-c4d25e3edb35"
   },
   "outputs": [
    {
     "data": {
      "text/plain": [
       "'this is also a string'"
      ]
     },
     "execution_count": 8,
     "metadata": {},
     "output_type": "execute_result"
    }
   ],
   "source": [
    "b='this is also a string';b"
   ]
  },
  {
   "cell_type": "code",
   "execution_count": 9,
   "metadata": {
    "id": "GRjnplkJmkOW",
    "outputId": "54e695f9-4749-45d8-827c-a30bda1982d8"
   },
   "outputs": [
    {
     "data": {
      "text/plain": [
       "\"ahmet's idea\""
      ]
     },
     "execution_count": 9,
     "metadata": {},
     "output_type": "execute_result"
    }
   ],
   "source": [
    "c=\"ahmet's idea\";c"
   ]
  },
  {
   "cell_type": "markdown",
   "metadata": {
    "id": "msgl6rSKmkOX"
   },
   "source": [
    "For multiline string use triple of single-quote or double-quote"
   ]
  },
  {
   "cell_type": "code",
   "execution_count": 10,
   "metadata": {
    "id": "4Cttt_jHmkOX"
   },
   "outputs": [],
   "source": [
    "d=\"\"\" \n",
    "this is a multi line\n",
    "string\n",
    "\"\"\""
   ]
  },
  {
   "cell_type": "code",
   "execution_count": 11,
   "metadata": {
    "id": "F61ckPpMmkOY",
    "outputId": "38a03136-944b-41d9-d369-dead404b26d5"
   },
   "outputs": [
    {
     "data": {
      "text/plain": [
       "' \\nthis is a multi line\\nstring\\n'"
      ]
     },
     "execution_count": 11,
     "metadata": {},
     "output_type": "execute_result"
    }
   ],
   "source": [
    "d"
   ]
  },
  {
   "cell_type": "markdown",
   "metadata": {
    "id": "EMjmXx2KmkOY"
   },
   "source": [
    "\\n character is a special character which tells the computer to go to next line"
   ]
  },
  {
   "cell_type": "code",
   "execution_count": 12,
   "metadata": {
    "id": "ECHWZtbAmkOZ",
    "outputId": "5dc846f2-6364-4da1-e474-687431195761"
   },
   "outputs": [
    {
     "name": "stdout",
     "output_type": "stream",
     "text": [
      " \n",
      "this is a multi line\n",
      "string\n",
      "\n"
     ]
    }
   ],
   "source": [
    "print(d)"
   ]
  },
  {
   "cell_type": "markdown",
   "metadata": {
    "id": "rMnWat7omkOZ"
   },
   "source": [
    "### len() function gives the number of element in a data object in python "
   ]
  },
  {
   "cell_type": "code",
   "execution_count": 13,
   "metadata": {
    "id": "5pAfEKVpmkOZ"
   },
   "outputs": [],
   "source": [
    "b=\"this is a string\""
   ]
  },
  {
   "cell_type": "code",
   "execution_count": 14,
   "metadata": {
    "id": "DXyBTrb_mkOa",
    "outputId": "b0991e49-e850-4032-dc3d-641a15dc97e7"
   },
   "outputs": [
    {
     "data": {
      "text/plain": [
       "16"
      ]
     },
     "execution_count": 14,
     "metadata": {},
     "output_type": "execute_result"
    }
   ],
   "source": [
    "len(b)"
   ]
  },
  {
   "cell_type": "code",
   "execution_count": 15,
   "metadata": {
    "id": "LE16dKkimkOa"
   },
   "outputs": [],
   "source": [
    "b=\"this is a          string\""
   ]
  },
  {
   "cell_type": "code",
   "execution_count": 16,
   "metadata": {
    "id": "GVmUxNTomkOb",
    "outputId": "f95cae74-c64f-4c45-d89f-3ac64b2b1fa0"
   },
   "outputs": [
    {
     "data": {
      "text/plain": [
       "25"
      ]
     },
     "execution_count": 16,
     "metadata": {},
     "output_type": "execute_result"
    }
   ],
   "source": [
    "len(b)"
   ]
  },
  {
   "cell_type": "markdown",
   "metadata": {
    "id": "VeLCsPHFmkOb"
   },
   "source": [
    "## String Indexing "
   ]
  },
  {
   "cell_type": "markdown",
   "metadata": {
    "id": "xS7V7TWjmkOc"
   },
   "source": [
    "Sequences maintain a left-to-right order among the items they contain: their items are stored and fetched by their relative positions.\n",
    "<br>You can access the characters with the bracket operator [ ]"
   ]
  },
  {
   "cell_type": "code",
   "execution_count": 17,
   "metadata": {
    "id": "0Fa7bw_WmkOc"
   },
   "outputs": [],
   "source": [
    "t=\"python\""
   ]
  },
  {
   "cell_type": "code",
   "execution_count": 18,
   "metadata": {
    "id": "rBzd_z1VmkOc",
    "outputId": "067681a2-b46a-47b5-8e52-c52669b2f4a9"
   },
   "outputs": [
    {
     "data": {
      "text/plain": [
       "'p'"
      ]
     },
     "execution_count": 18,
     "metadata": {},
     "output_type": "execute_result"
    }
   ],
   "source": [
    "t[0]"
   ]
  },
  {
   "cell_type": "markdown",
   "metadata": {
    "id": "KBBrEiaUmkOc"
   },
   "source": [
    "in python indexing starts with 0"
   ]
  },
  {
   "cell_type": "code",
   "execution_count": 19,
   "metadata": {
    "id": "hvQQqv8OmkOd",
    "outputId": "5aed4135-9e0c-4548-9fda-6619e8da540e"
   },
   "outputs": [
    {
     "data": {
      "text/plain": [
       "'y'"
      ]
     },
     "execution_count": 19,
     "metadata": {},
     "output_type": "execute_result"
    }
   ],
   "source": [
    "t[1]"
   ]
  },
  {
   "cell_type": "code",
   "execution_count": 20,
   "metadata": {
    "id": "sLTvEyStmkOd",
    "outputId": "0b3bee16-80eb-43a7-b5b9-e45cd7f37eed"
   },
   "outputs": [
    {
     "data": {
      "text/plain": [
       "'n'"
      ]
     },
     "execution_count": 20,
     "metadata": {},
     "output_type": "execute_result"
    }
   ],
   "source": [
    "t[-1]"
   ]
  },
  {
   "cell_type": "code",
   "execution_count": 21,
   "metadata": {
    "id": "7DnENUDjmkOd",
    "outputId": "b846e7fc-b828-40d0-fb09-ac3026a5bdbf"
   },
   "outputs": [
    {
     "data": {
      "text/plain": [
       "'o'"
      ]
     },
     "execution_count": 21,
     "metadata": {},
     "output_type": "execute_result"
    }
   ],
   "source": [
    "t[-2]"
   ]
  },
  {
   "cell_type": "markdown",
   "metadata": {
    "id": "f_vKcjzMmkOe"
   },
   "source": [
    "## String Slicing"
   ]
  },
  {
   "cell_type": "markdown",
   "metadata": {
    "id": "RqrPLJXvmkOf"
   },
   "source": [
    "string name[starting location : ending location+1]"
   ]
  },
  {
   "cell_type": "code",
   "execution_count": 22,
   "metadata": {
    "id": "UUnp6OEnmkOf"
   },
   "outputs": [],
   "source": [
    "t=\"python\""
   ]
  },
  {
   "cell_type": "code",
   "execution_count": 23,
   "metadata": {
    "id": "gFmtjkICmkOf",
    "outputId": "a0b771c6-ed88-4b3b-ad2d-ceb32f14c3cf"
   },
   "outputs": [
    {
     "data": {
      "text/plain": [
       "'py'"
      ]
     },
     "execution_count": 23,
     "metadata": {},
     "output_type": "execute_result"
    }
   ],
   "source": [
    "t[0:2]"
   ]
  },
  {
   "cell_type": "code",
   "execution_count": 24,
   "metadata": {
    "id": "zPdxuWo2mkOg",
    "outputId": "f3a099cd-84c0-4568-97dd-c24405a17578"
   },
   "outputs": [
    {
     "data": {
      "text/plain": [
       "'pyt'"
      ]
     },
     "execution_count": 24,
     "metadata": {},
     "output_type": "execute_result"
    }
   ],
   "source": [
    "t[0:3]"
   ]
  },
  {
   "cell_type": "code",
   "execution_count": 25,
   "metadata": {
    "id": "gEOOSbdCmkOg",
    "outputId": "b50894ff-9e45-45ba-80de-ab4b7c5a705a"
   },
   "outputs": [
    {
     "data": {
      "text/plain": [
       "'python'"
      ]
     },
     "execution_count": 25,
     "metadata": {},
     "output_type": "execute_result"
    }
   ],
   "source": [
    "t[:]"
   ]
  },
  {
   "cell_type": "code",
   "execution_count": 26,
   "metadata": {
    "id": "iMswoPgBmkOg",
    "outputId": "d6680b85-6edd-4421-b708-3b8b8632af42"
   },
   "outputs": [
    {
     "data": {
      "text/plain": [
       "'pyt'"
      ]
     },
     "execution_count": 26,
     "metadata": {},
     "output_type": "execute_result"
    }
   ],
   "source": [
    "t[:3]"
   ]
  },
  {
   "cell_type": "code",
   "execution_count": 27,
   "metadata": {
    "id": "X86tzOxemkOh",
    "outputId": "d5149ef6-bd3b-49b2-fb3a-2e838135851c"
   },
   "outputs": [
    {
     "data": {
      "text/plain": [
       "'hon'"
      ]
     },
     "execution_count": 27,
     "metadata": {},
     "output_type": "execute_result"
    }
   ],
   "source": [
    "t[3:]"
   ]
  },
  {
   "cell_type": "code",
   "execution_count": 28,
   "metadata": {
    "id": "rxVx8Ro6mkOh",
    "outputId": "08fb8ba6-be45-4da7-8feb-ea3ffda59b02"
   },
   "outputs": [
    {
     "data": {
      "text/plain": [
       "'ho'"
      ]
     },
     "execution_count": 28,
     "metadata": {},
     "output_type": "execute_result"
    }
   ],
   "source": [
    "t[-3:-1]"
   ]
  },
  {
   "cell_type": "code",
   "execution_count": 29,
   "metadata": {
    "id": "7XomeygbmkOi",
    "outputId": "f21d41bb-6f45-410c-8a41-b73afc5b6b45"
   },
   "outputs": [
    {
     "data": {
      "text/plain": [
       "'hon'"
      ]
     },
     "execution_count": 29,
     "metadata": {},
     "output_type": "execute_result"
    }
   ],
   "source": [
    "t[-3:]"
   ]
  },
  {
   "cell_type": "markdown",
   "metadata": {
    "id": "Qh3IRAusmkOi"
   },
   "source": [
    "## Tuples"
   ]
  },
  {
   "cell_type": "markdown",
   "metadata": {
    "id": "jiXrWZo6mkOi"
   },
   "source": [
    "A tuple is a fixed-length, immutable sequence of Python objects.\n",
    "<br> The easiest way to create one is with a comma-separated sequence of values or using paranthesis ()"
   ]
  },
  {
   "cell_type": "code",
   "execution_count": 30,
   "metadata": {
    "id": "jJq6NBlZmkOi",
    "outputId": "73925a64-44aa-4fee-afb3-2a6d402de6cf"
   },
   "outputs": [
    {
     "data": {
      "text/plain": [
       "(3, 4, 5)"
      ]
     },
     "execution_count": 30,
     "metadata": {},
     "output_type": "execute_result"
    }
   ],
   "source": [
    "a=3,4,5;a"
   ]
  },
  {
   "cell_type": "code",
   "execution_count": 31,
   "metadata": {
    "id": "cbpIvhZSmkOj",
    "outputId": "5d6f3303-dd3c-443b-ec89-ec687bd633eb"
   },
   "outputs": [
    {
     "data": {
      "text/plain": [
       "tuple"
      ]
     },
     "execution_count": 31,
     "metadata": {},
     "output_type": "execute_result"
    }
   ],
   "source": [
    "type(a)"
   ]
  },
  {
   "cell_type": "code",
   "execution_count": 32,
   "metadata": {
    "id": "xkFT8U3smkOj"
   },
   "outputs": [],
   "source": [
    "b=(2,4,5)"
   ]
  },
  {
   "cell_type": "code",
   "execution_count": 33,
   "metadata": {
    "id": "BMP_rU9amkOk",
    "outputId": "80f3beb6-f667-42fc-b739-7eef89a93091"
   },
   "outputs": [
    {
     "data": {
      "text/plain": [
       "tuple"
      ]
     },
     "execution_count": 33,
     "metadata": {},
     "output_type": "execute_result"
    }
   ],
   "source": [
    "type(b)"
   ]
  },
  {
   "cell_type": "markdown",
   "metadata": {
    "id": "gPsFHhtSmkOk"
   },
   "source": [
    "### Any sequence or iterator can be converted to a tuple by invoking tuple:"
   ]
  },
  {
   "cell_type": "code",
   "execution_count": 34,
   "metadata": {
    "id": "Ymnh0TjZmkOl",
    "outputId": "f1f38a82-ea44-406f-809d-5bb6625c7d6c"
   },
   "outputs": [
    {
     "data": {
      "text/plain": [
       "'test string'"
      ]
     },
     "execution_count": 34,
     "metadata": {},
     "output_type": "execute_result"
    }
   ],
   "source": [
    "a=\"test string\";a"
   ]
  },
  {
   "cell_type": "code",
   "execution_count": 35,
   "metadata": {
    "id": "JkT6-DQsmkOl",
    "outputId": "588f0ac5-a8f6-44bd-ea3d-a0658ff0247b"
   },
   "outputs": [
    {
     "data": {
      "text/plain": [
       "str"
      ]
     },
     "execution_count": 35,
     "metadata": {},
     "output_type": "execute_result"
    }
   ],
   "source": [
    "type(a)"
   ]
  },
  {
   "cell_type": "code",
   "execution_count": 36,
   "metadata": {
    "id": "R2wDe30kmkOl",
    "outputId": "aab83d42-a342-491e-a977-67f0aeb3e8a2"
   },
   "outputs": [
    {
     "data": {
      "text/plain": [
       "('t', 'e', 's', 't', ' ', 's', 't', 'r', 'i', 'n', 'g')"
      ]
     },
     "execution_count": 36,
     "metadata": {},
     "output_type": "execute_result"
    }
   ],
   "source": [
    "b=tuple(a);b"
   ]
  },
  {
   "cell_type": "code",
   "execution_count": 37,
   "metadata": {
    "id": "Itzz1pv1mkOm",
    "outputId": "3fdb9811-c7fc-4082-cb24-c9e61aa9d1e4"
   },
   "outputs": [
    {
     "data": {
      "text/plain": [
       "tuple"
      ]
     },
     "execution_count": 37,
     "metadata": {},
     "output_type": "execute_result"
    }
   ],
   "source": [
    "type(b)"
   ]
  },
  {
   "cell_type": "markdown",
   "metadata": {
    "id": "x31wTr0cmkOm"
   },
   "source": [
    "Tuple elements can be accessed with square brackets."
   ]
  },
  {
   "cell_type": "code",
   "execution_count": 38,
   "metadata": {
    "id": "3J1su1JymkOm",
    "outputId": "0adc194e-d547-4be9-dd1c-45bf32e8a31e"
   },
   "outputs": [
    {
     "data": {
      "text/plain": [
       "'t'"
      ]
     },
     "execution_count": 38,
     "metadata": {},
     "output_type": "execute_result"
    }
   ],
   "source": [
    "b[0]"
   ]
  },
  {
   "cell_type": "code",
   "execution_count": 39,
   "metadata": {
    "id": "x381eLS_mkOm",
    "outputId": "d40bda7d-85ef-4755-ab8a-7725aca70f57"
   },
   "outputs": [
    {
     "data": {
      "text/plain": [
       "'g'"
      ]
     },
     "execution_count": 39,
     "metadata": {},
     "output_type": "execute_result"
    }
   ],
   "source": [
    "b[-1]"
   ]
  },
  {
   "cell_type": "code",
   "execution_count": 40,
   "metadata": {
    "id": "wo-d4_unmkOm",
    "outputId": "1fb7ee39-204f-4181-bd52-2812e4e3f741"
   },
   "outputs": [
    {
     "data": {
      "text/plain": [
       "('t', 'e', 's')"
      ]
     },
     "execution_count": 40,
     "metadata": {},
     "output_type": "execute_result"
    }
   ],
   "source": [
    "b[:3]"
   ]
  },
  {
   "cell_type": "markdown",
   "metadata": {
    "id": "Z32oDtHzmkOn"
   },
   "source": [
    "### tuple object methods "
   ]
  },
  {
   "cell_type": "code",
   "execution_count": 41,
   "metadata": {
    "id": "W3479LXxmkOn"
   },
   "outputs": [],
   "source": [
    "b=(1,2,2,3,3,3,4,4,4,4,5,5,5,5,5)"
   ]
  },
  {
   "cell_type": "code",
   "execution_count": 42,
   "metadata": {
    "id": "1_DboqZamkOn",
    "outputId": "3a33401d-8c41-4561-d2e2-59b2db380077"
   },
   "outputs": [
    {
     "data": {
      "text/plain": [
       "2"
      ]
     },
     "execution_count": 42,
     "metadata": {},
     "output_type": "execute_result"
    }
   ],
   "source": [
    "b.count(2)"
   ]
  },
  {
   "cell_type": "code",
   "execution_count": 43,
   "metadata": {
    "id": "ociEDM1QmkOo",
    "outputId": "d292d826-f39f-48a4-e03d-d78f707b613d"
   },
   "outputs": [
    {
     "data": {
      "text/plain": [
       "5"
      ]
     },
     "execution_count": 43,
     "metadata": {},
     "output_type": "execute_result"
    }
   ],
   "source": [
    "b.count(5)"
   ]
  },
  {
   "cell_type": "code",
   "execution_count": 44,
   "metadata": {
    "id": "xxSTW-KzmkOo",
    "outputId": "c5ac039b-57df-4a3d-910e-95d918cd5ced"
   },
   "outputs": [
    {
     "data": {
      "text/plain": [
       "6"
      ]
     },
     "execution_count": 44,
     "metadata": {},
     "output_type": "execute_result"
    }
   ],
   "source": [
    "b.index(4)"
   ]
  },
  {
   "cell_type": "code",
   "execution_count": 45,
   "metadata": {
    "id": "a9cu8Kh-mkOo",
    "outputId": "19357e58-98b5-4f48-d45c-539a31e6805d"
   },
   "outputs": [
    {
     "data": {
      "text/plain": [
       "3"
      ]
     },
     "execution_count": 45,
     "metadata": {},
     "output_type": "execute_result"
    }
   ],
   "source": [
    "b.index(3)"
   ]
  },
  {
   "cell_type": "markdown",
   "metadata": {
    "id": "f4R0PYUNmkOo"
   },
   "source": [
    "## List"
   ]
  },
  {
   "cell_type": "markdown",
   "metadata": {
    "id": "WLVNFj5jmkOp"
   },
   "source": [
    "In contrast with tuples, lists are variable-length and their contents can be modified.\n",
    "<br> They can be defined using square brackets [] or using the list type function:"
   ]
  },
  {
   "cell_type": "code",
   "execution_count": 46,
   "metadata": {
    "id": "OFM_tt3AmkOp",
    "outputId": "8a90f68a-cec6-4b20-ca0c-ecbe8bc02ab9"
   },
   "outputs": [
    {
     "data": {
      "text/plain": [
       "[2, 3, 4, 'text', None, True, 'book']"
      ]
     },
     "execution_count": 46,
     "metadata": {},
     "output_type": "execute_result"
    }
   ],
   "source": [
    "mylist=[2,3,4,\"text\",None,True,\"book\"];mylist"
   ]
  },
  {
   "cell_type": "code",
   "execution_count": 47,
   "metadata": {
    "id": "oWfOMK_8mkOp",
    "outputId": "c9540a96-f232-465f-cd33-383fa8f990d5"
   },
   "outputs": [
    {
     "data": {
      "text/plain": [
       "2"
      ]
     },
     "execution_count": 47,
     "metadata": {},
     "output_type": "execute_result"
    }
   ],
   "source": [
    "mylist[0]"
   ]
  },
  {
   "cell_type": "code",
   "execution_count": 48,
   "metadata": {
    "id": "oMyJisL9mkOp",
    "outputId": "2ad1b53d-8bcc-446f-8456-cdb4e7776725"
   },
   "outputs": [
    {
     "data": {
      "text/plain": [
       "'text'"
      ]
     },
     "execution_count": 48,
     "metadata": {},
     "output_type": "execute_result"
    }
   ],
   "source": [
    "mylist[3]"
   ]
  },
  {
   "cell_type": "code",
   "execution_count": 49,
   "metadata": {
    "id": "oIijvUf2mkOq"
   },
   "outputs": [],
   "source": [
    "mylist[4]"
   ]
  },
  {
   "cell_type": "code",
   "execution_count": 50,
   "metadata": {
    "id": "kC853R3smkOq",
    "outputId": "e6421b04-13d4-4ce8-eaaa-66c45d702b17"
   },
   "outputs": [
    {
     "data": {
      "text/plain": [
       "True"
      ]
     },
     "execution_count": 50,
     "metadata": {},
     "output_type": "execute_result"
    }
   ],
   "source": [
    "mylist[5]"
   ]
  },
  {
   "cell_type": "markdown",
   "metadata": {
    "id": "GaewouYtmkOr"
   },
   "source": [
    "### You can convert any sequence data structure into a list by typing list() "
   ]
  },
  {
   "cell_type": "code",
   "execution_count": 51,
   "metadata": {
    "id": "Tsx8-QqFmkOr"
   },
   "outputs": [],
   "source": [
    "a=\"book\""
   ]
  },
  {
   "cell_type": "code",
   "execution_count": 52,
   "metadata": {
    "id": "8gIwFQlxmkOr",
    "outputId": "242dd35b-a065-44a8-9192-58d16d1ee271"
   },
   "outputs": [
    {
     "data": {
      "text/plain": [
       "['b', 'o', 'o', 'k']"
      ]
     },
     "execution_count": 52,
     "metadata": {},
     "output_type": "execute_result"
    }
   ],
   "source": [
    "b=list(a);b"
   ]
  },
  {
   "cell_type": "markdown",
   "metadata": {
    "id": "0jASpss7mkOs"
   },
   "source": [
    "## List methods "
   ]
  },
  {
   "cell_type": "markdown",
   "metadata": {
    "id": "1XQ8N8TxmkOt"
   },
   "source": [
    "List.append() appends a new element into a list"
   ]
  },
  {
   "cell_type": "code",
   "execution_count": 53,
   "metadata": {
    "id": "H4DJJatvmkOt",
    "outputId": "ebf6501e-3a31-458f-afa2-827c87e3a63b"
   },
   "outputs": [
    {
     "data": {
      "text/plain": [
       "[1, '1', 2, 'book', 'text', 'class']"
      ]
     },
     "execution_count": 53,
     "metadata": {},
     "output_type": "execute_result"
    }
   ],
   "source": [
    "t=[1,\"1\",2,\"book\",\"text\",\"class\"];t"
   ]
  },
  {
   "cell_type": "code",
   "execution_count": 54,
   "metadata": {
    "id": "WZ6VfXCLmkOt"
   },
   "outputs": [],
   "source": [
    "t.append(\"new\")"
   ]
  },
  {
   "cell_type": "code",
   "execution_count": 55,
   "metadata": {
    "id": "0SIWfHkbmkOt",
    "outputId": "cbc0e7bc-e0b7-43ff-a4b2-149bdc12870c"
   },
   "outputs": [
    {
     "data": {
      "text/plain": [
       "[1, '1', 2, 'book', 'text', 'class', 'new']"
      ]
     },
     "execution_count": 55,
     "metadata": {},
     "output_type": "execute_result"
    }
   ],
   "source": [
    "t"
   ]
  },
  {
   "cell_type": "markdown",
   "metadata": {
    "id": "RgFnlQA_mkOu"
   },
   "source": [
    "Del list[i] deletes a list element"
   ]
  },
  {
   "cell_type": "code",
   "execution_count": 56,
   "metadata": {
    "id": "CournH_GmkOv"
   },
   "outputs": [],
   "source": [
    "del t[0]"
   ]
  },
  {
   "cell_type": "code",
   "execution_count": 57,
   "metadata": {
    "id": "7QTvehG0mkOv",
    "outputId": "3c8cf632-dc54-4e62-e78f-b4d261641e97"
   },
   "outputs": [
    {
     "data": {
      "text/plain": [
       "['1', 2, 'book', 'text', 'class', 'new']"
      ]
     },
     "execution_count": 57,
     "metadata": {},
     "output_type": "execute_result"
    }
   ],
   "source": [
    "t"
   ]
  },
  {
   "cell_type": "markdown",
   "metadata": {
    "id": "cjx5M1CLmkOw"
   },
   "source": [
    "List.pop(i) removes ith element in a list and returns the value of the element"
   ]
  },
  {
   "cell_type": "code",
   "execution_count": 58,
   "metadata": {
    "id": "tzONl8K8mkOw",
    "outputId": "178f11ae-54b9-4560-9922-71366d964a1c"
   },
   "outputs": [
    {
     "data": {
      "text/plain": [
       "'1'"
      ]
     },
     "execution_count": 58,
     "metadata": {},
     "output_type": "execute_result"
    }
   ],
   "source": [
    "t.pop(0)"
   ]
  },
  {
   "cell_type": "markdown",
   "metadata": {
    "id": "WET5zsFemkOw"
   },
   "source": [
    "T.remove(value) removes first element that has value as “value”"
   ]
  },
  {
   "cell_type": "code",
   "execution_count": 59,
   "metadata": {
    "id": "gaJPYC_PmkOw",
    "outputId": "5bcab22a-b8a1-46d7-a701-ac9725974f8c"
   },
   "outputs": [
    {
     "data": {
      "text/plain": [
       "[2, 'book', 'text', 'class', 'new']"
      ]
     },
     "execution_count": 59,
     "metadata": {},
     "output_type": "execute_result"
    }
   ],
   "source": [
    "t"
   ]
  },
  {
   "cell_type": "code",
   "execution_count": 60,
   "metadata": {
    "id": "lUEmRYMCmkOx"
   },
   "outputs": [],
   "source": [
    "t.remove(\"text\")"
   ]
  },
  {
   "cell_type": "code",
   "execution_count": 61,
   "metadata": {
    "id": "EIlqhrzYmkOx",
    "outputId": "8ab5d0a9-cc6e-4524-b7e0-46a289ad66bd"
   },
   "outputs": [
    {
     "data": {
      "text/plain": [
       "[2, 'book', 'class', 'new']"
      ]
     },
     "execution_count": 61,
     "metadata": {},
     "output_type": "execute_result"
    }
   ],
   "source": [
    "t"
   ]
  },
  {
   "cell_type": "markdown",
   "metadata": {
    "id": "Dw5kEmZHmkOx"
   },
   "source": [
    "##  + concatenates list,string or tuple "
   ]
  },
  {
   "cell_type": "code",
   "execution_count": 62,
   "metadata": {
    "id": "Ls7r6N9lmkOy",
    "outputId": "7623d294-8433-4db0-b421-e353b88af200"
   },
   "outputs": [
    {
     "data": {
      "text/plain": [
       "[1, 2, 3, 'a', 'b', 'c']"
      ]
     },
     "execution_count": 62,
     "metadata": {},
     "output_type": "execute_result"
    }
   ],
   "source": [
    "[1,2,3]+[\"a\",\"b\",\"c\"]"
   ]
  },
  {
   "cell_type": "code",
   "execution_count": 63,
   "metadata": {
    "id": "ym6gvTqomkOy",
    "outputId": "f0b3216c-d74e-491c-ad55-8d49fb555ab5"
   },
   "outputs": [
    {
     "data": {
      "text/plain": [
       "'teststring'"
      ]
     },
     "execution_count": 63,
     "metadata": {},
     "output_type": "execute_result"
    }
   ],
   "source": [
    "\"test\"+\"string\""
   ]
  },
  {
   "cell_type": "code",
   "execution_count": 64,
   "metadata": {
    "id": "eDcxaFCjmkOz",
    "outputId": "318d902f-70d0-4c00-fde0-79a7397ffe78"
   },
   "outputs": [
    {
     "data": {
      "text/plain": [
       "(1, 2, 3, 'a', 'b', 'c')"
      ]
     },
     "execution_count": 64,
     "metadata": {},
     "output_type": "execute_result"
    }
   ],
   "source": [
    "c=(1,2,3)+(\"a\",\"b\",\"c\");c"
   ]
  },
  {
   "cell_type": "markdown",
   "metadata": {
    "id": "7CQvtvA6mkOz"
   },
   "source": [
    "##  Extend vs Append"
   ]
  },
  {
   "cell_type": "code",
   "execution_count": 65,
   "metadata": {
    "id": "PdHf8LPrmkO0"
   },
   "outputs": [],
   "source": [
    "t=[10,20,30]"
   ]
  },
  {
   "cell_type": "code",
   "execution_count": 66,
   "metadata": {
    "id": "BET8kGXumkO0"
   },
   "outputs": [],
   "source": [
    "t.extend([40,50,60])"
   ]
  },
  {
   "cell_type": "code",
   "execution_count": 67,
   "metadata": {
    "id": "v1wcVuK9mkO2",
    "outputId": "78435277-0795-4f6e-ab62-02584c94ffec"
   },
   "outputs": [
    {
     "data": {
      "text/plain": [
       "[10, 20, 30, 40, 50, 60]"
      ]
     },
     "execution_count": 67,
     "metadata": {},
     "output_type": "execute_result"
    }
   ],
   "source": [
    "t"
   ]
  },
  {
   "cell_type": "code",
   "execution_count": 68,
   "metadata": {
    "id": "uuTMX5AMmkO2",
    "outputId": "dd284844-a8d8-4851-d1d8-e5d5dc9820a8"
   },
   "outputs": [
    {
     "data": {
      "text/plain": [
       "40"
      ]
     },
     "execution_count": 68,
     "metadata": {},
     "output_type": "execute_result"
    }
   ],
   "source": [
    "t[3]"
   ]
  },
  {
   "cell_type": "code",
   "execution_count": 69,
   "metadata": {
    "id": "zZt5r3bpmkO3"
   },
   "outputs": [],
   "source": [
    "t=[10,20,30]"
   ]
  },
  {
   "cell_type": "code",
   "execution_count": 70,
   "metadata": {
    "id": "jbgZUCW_mkO3"
   },
   "outputs": [],
   "source": [
    "t.append([40,50,60])"
   ]
  },
  {
   "cell_type": "code",
   "execution_count": 71,
   "metadata": {
    "id": "DI1q_CJfmkO3",
    "outputId": "22ce2f7d-1445-43af-a5f1-29902ed22a65"
   },
   "outputs": [
    {
     "data": {
      "text/plain": [
       "[10, 20, 30, [40, 50, 60]]"
      ]
     },
     "execution_count": 71,
     "metadata": {},
     "output_type": "execute_result"
    }
   ],
   "source": [
    "t"
   ]
  },
  {
   "cell_type": "code",
   "execution_count": 72,
   "metadata": {
    "id": "FeFzstTnmkO4",
    "outputId": "5ed8db6e-a43e-48d2-f206-9a0c7a61585b"
   },
   "outputs": [
    {
     "data": {
      "text/plain": [
       "[40, 50, 60]"
      ]
     },
     "execution_count": 72,
     "metadata": {},
     "output_type": "execute_result"
    }
   ],
   "source": [
    "t[3]"
   ]
  },
  {
   "cell_type": "markdown",
   "metadata": {
    "id": "oTx_HOg_mkO4"
   },
   "source": [
    "### List slicing "
   ]
  },
  {
   "cell_type": "code",
   "execution_count": 73,
   "metadata": {
    "id": "ITcFX-UBmkO4"
   },
   "outputs": [],
   "source": [
    "l=[10,20,30,40,50]"
   ]
  },
  {
   "cell_type": "code",
   "execution_count": 74,
   "metadata": {
    "id": "200qs_FumkO4",
    "outputId": "cd3822ff-1a1f-4fe5-a103-11bdd0091614"
   },
   "outputs": [
    {
     "data": {
      "text/plain": [
       "[20, 30]"
      ]
     },
     "execution_count": 74,
     "metadata": {},
     "output_type": "execute_result"
    }
   ],
   "source": [
    "l[1:3]"
   ]
  },
  {
   "cell_type": "code",
   "execution_count": 75,
   "metadata": {
    "id": "cGD0xFzomkO5",
    "outputId": "52f766d7-ba20-46e0-a7ed-88ba00dc90f0"
   },
   "outputs": [
    {
     "data": {
      "text/plain": [
       "[40, 50]"
      ]
     },
     "execution_count": 75,
     "metadata": {},
     "output_type": "execute_result"
    }
   ],
   "source": [
    "l[3:]"
   ]
  },
  {
   "cell_type": "markdown",
   "metadata": {
    "id": "MusaY19BmkO6"
   },
   "source": [
    "## Changing list elements"
   ]
  },
  {
   "cell_type": "code",
   "execution_count": 76,
   "metadata": {
    "id": "1q2tUN7YmkO7",
    "outputId": "3c977ac9-510c-407a-bee6-fdd93b49f410"
   },
   "outputs": [
    {
     "data": {
      "text/plain": [
       "['a', 'b', 'c', 'd', 'e']"
      ]
     },
     "execution_count": 76,
     "metadata": {},
     "output_type": "execute_result"
    }
   ],
   "source": [
    "l=list(\"abcde\");l"
   ]
  },
  {
   "cell_type": "code",
   "execution_count": 77,
   "metadata": {
    "id": "WTe4hDbNmkO7",
    "outputId": "b875d606-fc57-4ac4-8ad6-f7760786ce22"
   },
   "outputs": [
    {
     "data": {
      "text/plain": [
       "'b'"
      ]
     },
     "execution_count": 77,
     "metadata": {},
     "output_type": "execute_result"
    }
   ],
   "source": [
    "l[1]"
   ]
  },
  {
   "cell_type": "code",
   "execution_count": 78,
   "metadata": {
    "id": "qZrGbgrcmkO7"
   },
   "outputs": [],
   "source": [
    "l[1]=100"
   ]
  },
  {
   "cell_type": "code",
   "execution_count": 79,
   "metadata": {
    "id": "hohx_u7GmkO8",
    "outputId": "57c19371-895d-4cc6-8426-bbeefbe7d8f1"
   },
   "outputs": [
    {
     "data": {
      "text/plain": [
       "['a', 100, 'c', 'd', 'e']"
      ]
     },
     "execution_count": 79,
     "metadata": {},
     "output_type": "execute_result"
    }
   ],
   "source": [
    "l"
   ]
  },
  {
   "cell_type": "markdown",
   "metadata": {
    "id": "v5P4Cg7gmkO9"
   },
   "source": [
    "##  sorting the list "
   ]
  },
  {
   "cell_type": "code",
   "execution_count": 80,
   "metadata": {
    "id": "Zp7D0qc4mkO9",
    "outputId": "87732b13-4b45-4100-ac51-9804ef56ec0a"
   },
   "outputs": [
    {
     "data": {
      "text/plain": [
       "['d', 'e', 'a', 'b', 'c']"
      ]
     },
     "execution_count": 80,
     "metadata": {},
     "output_type": "execute_result"
    }
   ],
   "source": [
    "mylist=list(\"deabc\");mylist"
   ]
  },
  {
   "cell_type": "code",
   "execution_count": 81,
   "metadata": {
    "id": "PzPmN0kbmkO9"
   },
   "outputs": [],
   "source": [
    "mylist.sort()"
   ]
  },
  {
   "cell_type": "code",
   "execution_count": 82,
   "metadata": {
    "id": "OJ6pm_KkmkO9",
    "outputId": "b351e071-cbd7-4c55-80e2-8a9cee7b7588"
   },
   "outputs": [
    {
     "data": {
      "text/plain": [
       "['a', 'b', 'c', 'd', 'e']"
      ]
     },
     "execution_count": 82,
     "metadata": {},
     "output_type": "execute_result"
    }
   ],
   "source": [
    "mylist"
   ]
  },
  {
   "cell_type": "code",
   "execution_count": 83,
   "metadata": {
    "id": "8znQv34rmkO-"
   },
   "outputs": [],
   "source": [
    "mylist=[4,0,5,9]"
   ]
  },
  {
   "cell_type": "code",
   "execution_count": 84,
   "metadata": {
    "id": "gl39214gmkO-",
    "outputId": "f89cb784-0f38-4fc0-d3b6-6ff7207efe31"
   },
   "outputs": [
    {
     "data": {
      "text/plain": [
       "[0, 4, 5, 9]"
      ]
     },
     "execution_count": 84,
     "metadata": {},
     "output_type": "execute_result"
    }
   ],
   "source": [
    "mylist.sort();mylist"
   ]
  },
  {
   "cell_type": "code",
   "execution_count": 85,
   "metadata": {
    "id": "j1_x9-BTmkO_"
   },
   "outputs": [],
   "source": [
    "mylist=[4,0,5,9,\"a\",\"d\",\"c\"]"
   ]
  },
  {
   "cell_type": "code",
   "execution_count": 86,
   "metadata": {
    "id": "Eip-h4v-mkO_",
    "outputId": "70e20cad-7e55-48e9-a6fb-3f7513639cd1"
   },
   "outputs": [
    {
     "ename": "TypeError",
     "evalue": "'<' not supported between instances of 'str' and 'int'",
     "output_type": "error",
     "traceback": [
      "\u001b[1;31m---------------------------------------------------------------------------\u001b[0m",
      "\u001b[1;31mTypeError\u001b[0m                                 Traceback (most recent call last)",
      "Cell \u001b[1;32mIn[86], line 1\u001b[0m\n\u001b[1;32m----> 1\u001b[0m mylist\u001b[38;5;241m.\u001b[39msort();mylist\n",
      "\u001b[1;31mTypeError\u001b[0m: '<' not supported between instances of 'str' and 'int'"
     ]
    }
   ],
   "source": [
    "mylist.sort();mylist"
   ]
  },
  {
   "cell_type": "markdown",
   "metadata": {
    "id": "z4rSOnjwmkO_"
   },
   "source": [
    "### Insert function adds element at the desired index "
   ]
  },
  {
   "cell_type": "code",
   "execution_count": null,
   "metadata": {
    "id": "QukrFyZTmkPA"
   },
   "outputs": [],
   "source": [
    "mylist=[\"Zebra\",\"Lion\",\"Cat\",\"Camel\",\"Eagle\",\"Shark\"]"
   ]
  },
  {
   "cell_type": "code",
   "execution_count": null,
   "metadata": {
    "id": "F34ckO6umkPA"
   },
   "outputs": [],
   "source": [
    "mylist.insert(1,\"Whale\")"
   ]
  },
  {
   "cell_type": "code",
   "execution_count": null,
   "metadata": {
    "id": "nWvjWCFamkPB",
    "outputId": "f74a183a-e394-439d-a13e-223cb4bf8fc6"
   },
   "outputs": [],
   "source": [
    "mylist"
   ]
  },
  {
   "cell_type": "code",
   "execution_count": null,
   "metadata": {
    "id": "joxpdXP7mkPB"
   },
   "outputs": [],
   "source": [
    "mylist.reverse()"
   ]
  },
  {
   "cell_type": "code",
   "execution_count": 87,
   "metadata": {
    "id": "fZFQ8DVfmkPC",
    "outputId": "ec70bc4b-8d4c-45a2-bdf7-a645c9f02ff1"
   },
   "outputs": [
    {
     "data": {
      "text/plain": [
       "[0, 4, 5, 9, 'a', 'd', 'c']"
      ]
     },
     "execution_count": 87,
     "metadata": {},
     "output_type": "execute_result"
    }
   ],
   "source": [
    "mylist"
   ]
  },
  {
   "cell_type": "code",
   "execution_count": 88,
   "metadata": {
    "id": "saoPwPuCmkPC"
   },
   "outputs": [],
   "source": [
    "mylist.clear()"
   ]
  },
  {
   "cell_type": "code",
   "execution_count": 89,
   "metadata": {
    "id": "5L2bsPARmkPD",
    "outputId": "2a3825fb-8461-4047-9ff7-bb7e394e9b32"
   },
   "outputs": [
    {
     "data": {
      "text/plain": [
       "[]"
      ]
     },
     "execution_count": 89,
     "metadata": {},
     "output_type": "execute_result"
    }
   ],
   "source": [
    "mylist"
   ]
  },
  {
   "cell_type": "code",
   "execution_count": 90,
   "metadata": {
    "id": "S372HFgumkPD"
   },
   "outputs": [],
   "source": [
    "del mylist"
   ]
  },
  {
   "cell_type": "code",
   "execution_count": 91,
   "metadata": {
    "id": "41oubk5vmkPE",
    "outputId": "ff1893d7-1d99-47f3-e282-c8ae7513444b"
   },
   "outputs": [
    {
     "ename": "NameError",
     "evalue": "name 'mylist' is not defined",
     "output_type": "error",
     "traceback": [
      "\u001b[1;31m---------------------------------------------------------------------------\u001b[0m",
      "\u001b[1;31mNameError\u001b[0m                                 Traceback (most recent call last)",
      "Cell \u001b[1;32mIn[91], line 1\u001b[0m\n\u001b[1;32m----> 1\u001b[0m mylist\n",
      "\u001b[1;31mNameError\u001b[0m: name 'mylist' is not defined"
     ]
    }
   ],
   "source": [
    "mylist"
   ]
  },
  {
   "cell_type": "markdown",
   "metadata": {
    "id": "cnl7u_jomkPE"
   },
   "source": [
    "## In operator \n",
    "This operator returns if searched element in the data object or not"
   ]
  },
  {
   "cell_type": "code",
   "execution_count": 92,
   "metadata": {
    "id": "CgJoHdNrmkPF"
   },
   "outputs": [],
   "source": [
    "mylist=[\"Zebra\",\"Lion\",\"Cat\",\"Camel\",\"Eagle\",\"Shark\"]"
   ]
  },
  {
   "cell_type": "code",
   "execution_count": 93,
   "metadata": {
    "id": "SzZZE35SmkPF",
    "outputId": "884d6985-fe16-4809-e7f8-91789caefc10"
   },
   "outputs": [
    {
     "data": {
      "text/plain": [
       "True"
      ]
     },
     "execution_count": 93,
     "metadata": {},
     "output_type": "execute_result"
    }
   ],
   "source": [
    "\"Eagle\" in mylist"
   ]
  },
  {
   "cell_type": "code",
   "execution_count": 94,
   "metadata": {
    "id": "e2Hudog9mkPF",
    "outputId": "e25630df-3c6b-4bbb-fdc7-e00fd6057968"
   },
   "outputs": [
    {
     "data": {
      "text/plain": [
       "False"
      ]
     },
     "execution_count": 94,
     "metadata": {},
     "output_type": "execute_result"
    }
   ],
   "source": [
    "\"Horse\" in mylist"
   ]
  },
  {
   "cell_type": "code",
   "execution_count": 95,
   "metadata": {
    "id": "PkiE3nevmkPF"
   },
   "outputs": [],
   "source": [
    "t=\"There are 30 students registered to this class\""
   ]
  },
  {
   "cell_type": "code",
   "execution_count": 96,
   "metadata": {
    "id": "S4jQns9vmkPF",
    "outputId": "f339e727-75be-41d6-b416-c6cec6638c10"
   },
   "outputs": [
    {
     "data": {
      "text/plain": [
       "True"
      ]
     },
     "execution_count": 96,
     "metadata": {},
     "output_type": "execute_result"
    }
   ],
   "source": [
    "\"class\" in t"
   ]
  },
  {
   "cell_type": "code",
   "execution_count": 97,
   "metadata": {
    "id": "i_F8jKUEmkPG",
    "outputId": "e30f5233-a677-40a4-af65-5c97405d459f"
   },
   "outputs": [
    {
     "data": {
      "text/plain": [
       "False"
      ]
     },
     "execution_count": 97,
     "metadata": {},
     "output_type": "execute_result"
    }
   ],
   "source": [
    "\"Class\" in t"
   ]
  },
  {
   "cell_type": "markdown",
   "metadata": {
    "id": "tlypvmPEmkPG"
   },
   "source": [
    "## Dictionaries"
   ]
  },
  {
   "cell_type": "markdown",
   "metadata": {
    "id": "hs3owHDTmkPG"
   },
   "source": [
    "A dictionary is like a list, but more general. In a list, the positions (indices) have to be integers; in a dictionary the indices can be (almost) any type.\n",
    "<br> Dictionary maps between a set of indices (which are called keys) and a set of values.\n",
    "<br> Dictionaries can be created by using curly braces {} and using colons to separate keys and values:"
   ]
  },
  {
   "cell_type": "code",
   "execution_count": 98,
   "metadata": {
    "id": "KGEgnxarmkPH"
   },
   "outputs": [],
   "source": [
    "salary={}"
   ]
  },
  {
   "cell_type": "code",
   "execution_count": 99,
   "metadata": {
    "id": "jLdzFnnSmkPH"
   },
   "outputs": [],
   "source": [
    "salary[\"ahmet\"]=1000"
   ]
  },
  {
   "cell_type": "code",
   "execution_count": 100,
   "metadata": {
    "id": "UZTxSfCwmkPH",
    "outputId": "1fc62b8e-4ce4-476e-b32d-2d19ad610959"
   },
   "outputs": [
    {
     "data": {
      "text/plain": [
       "{'ahmet': 1000}"
      ]
     },
     "execution_count": 100,
     "metadata": {},
     "output_type": "execute_result"
    }
   ],
   "source": [
    "salary"
   ]
  },
  {
   "cell_type": "code",
   "execution_count": 101,
   "metadata": {
    "id": "Uom2EBTwmkPH"
   },
   "outputs": [],
   "source": [
    "salary[\"ayşe\"]=2000"
   ]
  },
  {
   "cell_type": "code",
   "execution_count": 102,
   "metadata": {
    "id": "-81OSiTemkPH",
    "outputId": "1dcb0c94-3d47-4d89-b4a9-1e782e74e254"
   },
   "outputs": [
    {
     "data": {
      "text/plain": [
       "{'ahmet': 1000, 'ayşe': 2000}"
      ]
     },
     "execution_count": 102,
     "metadata": {},
     "output_type": "execute_result"
    }
   ],
   "source": [
    "salary"
   ]
  },
  {
   "cell_type": "code",
   "execution_count": 103,
   "metadata": {
    "id": "QnkTi6zQmkPH"
   },
   "outputs": [],
   "source": [
    "salary[\"zeynep\"]=3000"
   ]
  },
  {
   "cell_type": "code",
   "execution_count": 104,
   "metadata": {
    "id": "5rkygDABmkPI",
    "outputId": "7b0909b3-d078-47cb-c9f6-5c144321d707"
   },
   "outputs": [
    {
     "data": {
      "text/plain": [
       "{'ahmet': 1000, 'ayşe': 2000, 'zeynep': 3000}"
      ]
     },
     "execution_count": 104,
     "metadata": {},
     "output_type": "execute_result"
    }
   ],
   "source": [
    "salary"
   ]
  },
  {
   "cell_type": "markdown",
   "metadata": {
    "id": "mZ69_dC_mkPI"
   },
   "source": [
    "now get the salary of zeynep"
   ]
  },
  {
   "cell_type": "code",
   "execution_count": 105,
   "metadata": {
    "id": "suLU3C_ZmkPI",
    "outputId": "dbf122d9-fe7a-45d6-b68d-53f79fdac391"
   },
   "outputs": [
    {
     "data": {
      "text/plain": [
       "3000"
      ]
     },
     "execution_count": 105,
     "metadata": {},
     "output_type": "execute_result"
    }
   ],
   "source": [
    "salary[\"zeynep\"]"
   ]
  },
  {
   "cell_type": "markdown",
   "metadata": {
    "id": "xLLfYJY7mkPI"
   },
   "source": [
    "now get the salary of ahmet"
   ]
  },
  {
   "cell_type": "code",
   "execution_count": null,
   "metadata": {
    "id": "SF97FAJpmkPI"
   },
   "outputs": [],
   "source": []
  },
  {
   "cell_type": "markdown",
   "metadata": {
    "id": "cXKhO4UwmkPJ"
   },
   "source": [
    "try getting the first element of dictionary"
   ]
  },
  {
   "cell_type": "code",
   "execution_count": 106,
   "metadata": {
    "id": "Jli6iSxmmkPJ",
    "outputId": "6347a885-6b82-4573-96f8-4a5304569626"
   },
   "outputs": [
    {
     "ename": "KeyError",
     "evalue": "0",
     "output_type": "error",
     "traceback": [
      "\u001b[1;31m---------------------------------------------------------------------------\u001b[0m",
      "\u001b[1;31mKeyError\u001b[0m                                  Traceback (most recent call last)",
      "Cell \u001b[1;32mIn[106], line 1\u001b[0m\n\u001b[1;32m----> 1\u001b[0m salary[\u001b[38;5;241m0\u001b[39m]\n",
      "\u001b[1;31mKeyError\u001b[0m: 0"
     ]
    }
   ],
   "source": [
    "salary[0]"
   ]
  },
  {
   "cell_type": "markdown",
   "metadata": {
    "id": "iWG8P0n1mkPJ"
   },
   "source": [
    "in dictionary you cannot access the data using indeces!!"
   ]
  },
  {
   "cell_type": "markdown",
   "metadata": {
    "id": "HVSeax6UmkPJ"
   },
   "source": [
    "with in operator you can check if key is there or not"
   ]
  },
  {
   "cell_type": "code",
   "execution_count": 107,
   "metadata": {
    "id": "Px_JRtuzmkPJ",
    "outputId": "30ed19eb-1e42-4442-b304-a29986e3ce5b"
   },
   "outputs": [
    {
     "data": {
      "text/plain": [
       "True"
      ]
     },
     "execution_count": 107,
     "metadata": {},
     "output_type": "execute_result"
    }
   ],
   "source": [
    "\"ahmet\" in salary"
   ]
  },
  {
   "cell_type": "code",
   "execution_count": 108,
   "metadata": {
    "id": "X46Z90_nmkPJ",
    "outputId": "67799e67-c3e3-4e80-f6d9-37eaff502f85"
   },
   "outputs": [
    {
     "data": {
      "text/plain": [
       "False"
      ]
     },
     "execution_count": 108,
     "metadata": {},
     "output_type": "execute_result"
    }
   ],
   "source": [
    "\"mehmet\" in salary"
   ]
  },
  {
   "cell_type": "markdown",
   "metadata": {
    "id": "duE8Kc0VmkPX"
   },
   "source": [
    "to remove elements use dictionary.pop() function"
   ]
  },
  {
   "cell_type": "code",
   "execution_count": 109,
   "metadata": {
    "id": "1fTqqc38mkPX",
    "outputId": "9bbd4ed1-bb77-472d-abd9-607e4bc63e11"
   },
   "outputs": [
    {
     "data": {
      "text/plain": [
       "1000"
      ]
     },
     "execution_count": 109,
     "metadata": {},
     "output_type": "execute_result"
    }
   ],
   "source": [
    "salary.pop(\"ahmet\")"
   ]
  },
  {
   "cell_type": "code",
   "execution_count": 110,
   "metadata": {
    "id": "JIoEcW9DmkPX",
    "outputId": "52c64f11-48a3-4dc4-d3e8-8089b90c82eb"
   },
   "outputs": [
    {
     "data": {
      "text/plain": [
       "{'ayşe': 2000, 'zeynep': 3000}"
      ]
     },
     "execution_count": 110,
     "metadata": {},
     "output_type": "execute_result"
    }
   ],
   "source": [
    "salary"
   ]
  },
  {
   "cell_type": "markdown",
   "metadata": {
    "id": "2xEtbgg0mkPY"
   },
   "source": [
    "• The keys and values method give you lists of the keys and values, respectively"
   ]
  },
  {
   "cell_type": "code",
   "execution_count": 111,
   "metadata": {
    "id": "T_gzIybrmkPY",
    "outputId": "8795ecf7-fad3-424a-daf9-2b41d9c00f12"
   },
   "outputs": [
    {
     "data": {
      "text/plain": [
       "dict_keys(['ayşe', 'zeynep'])"
      ]
     },
     "execution_count": 111,
     "metadata": {},
     "output_type": "execute_result"
    }
   ],
   "source": [
    "salary.keys()"
   ]
  },
  {
   "cell_type": "code",
   "execution_count": 112,
   "metadata": {
    "id": "0QGnKrpQmkPY",
    "outputId": "66d25c70-1e0f-4259-8eac-6933c3415913"
   },
   "outputs": [
    {
     "data": {
      "text/plain": [
       "dict_values([2000, 3000])"
      ]
     },
     "execution_count": 112,
     "metadata": {},
     "output_type": "execute_result"
    }
   ],
   "source": [
    "salary.values()"
   ]
  },
  {
   "cell_type": "markdown",
   "metadata": {
    "id": "VvJP5gSqmkPY"
   },
   "source": [
    "items function retursn both key and value"
   ]
  },
  {
   "cell_type": "code",
   "execution_count": 113,
   "metadata": {
    "id": "dynrvCnumkPY",
    "outputId": "0bb0bb77-900b-4542-da01-7e2d1275cc59"
   },
   "outputs": [
    {
     "data": {
      "text/plain": [
       "dict_items([('ayşe', 2000), ('zeynep', 3000)])"
      ]
     },
     "execution_count": 113,
     "metadata": {},
     "output_type": "execute_result"
    }
   ],
   "source": [
    "salary.items()"
   ]
  },
  {
   "cell_type": "markdown",
   "metadata": {
    "id": "MoV5QxIomkPY"
   },
   "source": [
    "• One dictionary can be merged into another using the update method."
   ]
  },
  {
   "cell_type": "code",
   "execution_count": 114,
   "metadata": {
    "id": "ugarx1bQmkPZ"
   },
   "outputs": [],
   "source": [
    "salary.update({\"lale\":1500,\"Tarık\":3000})"
   ]
  },
  {
   "cell_type": "code",
   "execution_count": 115,
   "metadata": {
    "id": "lbS82A16mkPZ",
    "outputId": "a713ce62-f4af-4748-e8ca-be0ad2bfa4f7"
   },
   "outputs": [
    {
     "data": {
      "text/plain": [
       "{'ayşe': 2000, 'zeynep': 3000, 'lale': 1500, 'Tarık': 3000}"
      ]
     },
     "execution_count": 115,
     "metadata": {},
     "output_type": "execute_result"
    }
   ],
   "source": [
    "salary"
   ]
  },
  {
   "cell_type": "markdown",
   "metadata": {
    "id": "BmGhMVWfmkPZ"
   },
   "source": [
    "##  Nested Dictionary "
   ]
  },
  {
   "cell_type": "code",
   "execution_count": 116,
   "metadata": {
    "id": "QlmuMQ8imkPZ"
   },
   "outputs": [],
   "source": [
    "rec = {'name': 'Bob',\n",
    "'jobs': ['developer', 'manager'],\n",
    "'web': 'www.bobs.org/ ̃Bob',\n",
    "'home': {'state': 'Overworked', 'zip': 12345}}"
   ]
  },
  {
   "cell_type": "code",
   "execution_count": 117,
   "metadata": {
    "id": "H4Bukz_WmkPa",
    "outputId": "743badf8-cdca-4820-b099-11ded1e7be8c"
   },
   "outputs": [
    {
     "data": {
      "text/plain": [
       "{'name': 'Bob',\n",
       " 'jobs': ['developer', 'manager'],\n",
       " 'web': 'www.bobs.org/ ̃Bob',\n",
       " 'home': {'state': 'Overworked', 'zip': 12345}}"
      ]
     },
     "execution_count": 117,
     "metadata": {},
     "output_type": "execute_result"
    }
   ],
   "source": [
    "rec"
   ]
  },
  {
   "cell_type": "code",
   "execution_count": 118,
   "metadata": {
    "id": "xW9PZybemkPa",
    "outputId": "2a7f8ee7-f886-4def-afea-e6bad03c285a"
   },
   "outputs": [
    {
     "data": {
      "text/plain": [
       "'Bob'"
      ]
     },
     "execution_count": 118,
     "metadata": {},
     "output_type": "execute_result"
    }
   ],
   "source": [
    "rec[\"name\"]"
   ]
  },
  {
   "cell_type": "code",
   "execution_count": 119,
   "metadata": {
    "id": "mzHVd6LLmkPa",
    "outputId": "3067137b-525b-4e37-c823-8d355bd65648"
   },
   "outputs": [
    {
     "data": {
      "text/plain": [
       "['developer', 'manager']"
      ]
     },
     "execution_count": 119,
     "metadata": {},
     "output_type": "execute_result"
    }
   ],
   "source": [
    "rec[\"jobs\"]"
   ]
  },
  {
   "cell_type": "code",
   "execution_count": 120,
   "metadata": {
    "id": "zu5aDeAomkPa",
    "outputId": "b0601069-852c-4f06-f1cc-d299094f1ddc"
   },
   "outputs": [
    {
     "data": {
      "text/plain": [
       "'developer'"
      ]
     },
     "execution_count": 120,
     "metadata": {},
     "output_type": "execute_result"
    }
   ],
   "source": [
    "rec[\"jobs\"][0]"
   ]
  },
  {
   "cell_type": "code",
   "execution_count": 121,
   "metadata": {
    "id": "XBkq9XpCmkPa",
    "outputId": "ca81b18c-b5e1-4903-9cd3-3ff0fd00e9fb"
   },
   "outputs": [
    {
     "data": {
      "text/plain": [
       "{'state': 'Overworked', 'zip': 12345}"
      ]
     },
     "execution_count": 121,
     "metadata": {},
     "output_type": "execute_result"
    }
   ],
   "source": [
    "rec[\"home\"]"
   ]
  },
  {
   "cell_type": "markdown",
   "metadata": {
    "id": "h9asE3GPmkPb"
   },
   "source": [
    "get the zip code "
   ]
  },
  {
   "cell_type": "code",
   "execution_count": null,
   "metadata": {
    "id": "u3jGarTomkPb"
   },
   "outputs": [],
   "source": []
  },
  {
   "cell_type": "markdown",
   "metadata": {
    "id": "0ajGWMz4mkPb"
   },
   "source": [
    "## Sets"
   ]
  },
  {
   "cell_type": "markdown",
   "metadata": {
    "id": "rv7M63VgmkPb"
   },
   "source": [
    "A set is an unordered collection of unique elements.\n",
    "<br>• A set can be created in two ways: via the set function or using curly braces:\n",
    "<br>• Sets support mathematical set operations like union, intersection, difference\n",
    "<br>• Empty set should be created as s=set() command. This creates a new set which is called as s."
   ]
  },
  {
   "cell_type": "code",
   "execution_count": 122,
   "metadata": {
    "id": "-q-hmFQMmkPb"
   },
   "outputs": [],
   "source": [
    "a={2,3,5,7,7,7,4,4,4,3,3}"
   ]
  },
  {
   "cell_type": "code",
   "execution_count": 123,
   "metadata": {
    "id": "WlqU1DX4mkPc",
    "outputId": "c8ece56f-b8d4-471c-832e-2c9cc0ac5b3d"
   },
   "outputs": [
    {
     "data": {
      "text/plain": [
       "set"
      ]
     },
     "execution_count": 123,
     "metadata": {},
     "output_type": "execute_result"
    }
   ],
   "source": [
    "type(a)"
   ]
  },
  {
   "cell_type": "code",
   "execution_count": 124,
   "metadata": {
    "id": "npnWIeQVmkPc",
    "outputId": "b7596dc1-ced5-4960-c373-1ebcfa922741"
   },
   "outputs": [
    {
     "data": {
      "text/plain": [
       "{2, 3, 4, 5, 7}"
      ]
     },
     "execution_count": 124,
     "metadata": {},
     "output_type": "execute_result"
    }
   ],
   "source": [
    "a"
   ]
  },
  {
   "cell_type": "code",
   "execution_count": 125,
   "metadata": {
    "id": "TzSB52BsmkPc"
   },
   "outputs": [],
   "source": [
    "b=set([1,2,2,2,3,3,9,9,6,6,6])"
   ]
  },
  {
   "cell_type": "code",
   "execution_count": 126,
   "metadata": {
    "id": "SHCt_xkPmkPd",
    "outputId": "bc4f641f-d43d-4ab4-bf03-7811229e78fc"
   },
   "outputs": [
    {
     "data": {
      "text/plain": [
       "{1, 2, 3, 6, 9}"
      ]
     },
     "execution_count": 126,
     "metadata": {},
     "output_type": "execute_result"
    }
   ],
   "source": [
    "b"
   ]
  },
  {
   "cell_type": "code",
   "execution_count": 127,
   "metadata": {
    "id": "S2F45NFdmkPd",
    "outputId": "d702e94d-b3bc-47f8-dc49-0bc5e8e406d3"
   },
   "outputs": [
    {
     "data": {
      "text/plain": [
       "{1, 2, 3, 4, 5, 6, 7, 9}"
      ]
     },
     "execution_count": 127,
     "metadata": {},
     "output_type": "execute_result"
    }
   ],
   "source": [
    "a | b #union "
   ]
  },
  {
   "cell_type": "code",
   "execution_count": 128,
   "metadata": {
    "id": "U_1hhj66mkPe",
    "outputId": "fe1ddcea-add5-4405-e8c0-18846366833e"
   },
   "outputs": [
    {
     "data": {
      "text/plain": [
       "{2, 3}"
      ]
     },
     "execution_count": 128,
     "metadata": {},
     "output_type": "execute_result"
    }
   ],
   "source": [
    "a & b #intersection"
   ]
  },
  {
   "cell_type": "code",
   "execution_count": 129,
   "metadata": {
    "id": "8EgXOGGamkPe",
    "outputId": "649f2b91-cf05-4797-e371-16ca831c35c3"
   },
   "outputs": [
    {
     "data": {
      "text/plain": [
       "{4, 5, 7}"
      ]
     },
     "execution_count": 129,
     "metadata": {},
     "output_type": "execute_result"
    }
   ],
   "source": [
    "a-b # difference"
   ]
  },
  {
   "cell_type": "code",
   "execution_count": 130,
   "metadata": {
    "id": "Q-WKq6spmkPe",
    "outputId": "28ac522f-505d-4611-959c-b45896cd79c2"
   },
   "outputs": [
    {
     "data": {
      "text/plain": [
       "{1, 6, 9}"
      ]
     },
     "execution_count": 130,
     "metadata": {},
     "output_type": "execute_result"
    }
   ],
   "source": [
    "b-a"
   ]
  },
  {
   "cell_type": "markdown",
   "metadata": {
    "id": "aRl_pOOumkPe"
   },
   "source": [
    "press tab key after a. to see what functions available for set objects"
   ]
  },
  {
   "cell_type": "code",
   "execution_count": 131,
   "metadata": {
    "id": "lvbH4VExmkPf",
    "outputId": "2f776697-870a-4063-fefb-5341a62a4750"
   },
   "outputs": [
    {
     "data": {
      "text/plain": [
       "False"
      ]
     },
     "execution_count": 131,
     "metadata": {},
     "output_type": "execute_result"
    }
   ],
   "source": [
    "a.isdisjoint(b)"
   ]
  },
  {
   "cell_type": "code",
   "execution_count": 132,
   "metadata": {
    "id": "_EGtPJhgmkPf"
   },
   "outputs": [],
   "source": [
    "c=set([10,20,30])"
   ]
  },
  {
   "cell_type": "code",
   "execution_count": 133,
   "metadata": {
    "id": "BMhXogoNmkPf",
    "outputId": "a6214c30-4771-4422-f4bc-4695ac9d8bad"
   },
   "outputs": [
    {
     "data": {
      "text/plain": [
       "True"
      ]
     },
     "execution_count": 133,
     "metadata": {},
     "output_type": "execute_result"
    }
   ],
   "source": [
    "a.isdisjoint(c)"
   ]
  },
  {
   "cell_type": "markdown",
   "metadata": {
    "id": "IW9ljrawmkPf"
   },
   "source": [
    "sets take strings as well"
   ]
  },
  {
   "cell_type": "code",
   "execution_count": 134,
   "metadata": {
    "id": "GSdktSezmkPf"
   },
   "outputs": [],
   "source": [
    "engineers={\"bob\",\"sue\",\"ann\",\"vic\"}"
   ]
  },
  {
   "cell_type": "code",
   "execution_count": 135,
   "metadata": {
    "id": "VxQifCOAmkPg"
   },
   "outputs": [],
   "source": [
    "managers={\"tom\",\"sue\"}"
   ]
  },
  {
   "cell_type": "code",
   "execution_count": 136,
   "metadata": {
    "id": "V4PdqcSImkPg",
    "outputId": "c1c7a3bd-6d0b-411f-8cbb-647e7c4352ee"
   },
   "outputs": [
    {
     "data": {
      "text/plain": [
       "True"
      ]
     },
     "execution_count": 136,
     "metadata": {},
     "output_type": "execute_result"
    }
   ],
   "source": [
    "\"bob\" in engineers"
   ]
  },
  {
   "cell_type": "code",
   "execution_count": 137,
   "metadata": {
    "id": "yYOWqLMJmkPg",
    "outputId": "31e90584-d316-45f2-ea09-b42d674a7ec2"
   },
   "outputs": [
    {
     "data": {
      "text/plain": [
       "{'sue'}"
      ]
     },
     "execution_count": 137,
     "metadata": {},
     "output_type": "execute_result"
    }
   ],
   "source": [
    "engineers&managers"
   ]
  },
  {
   "cell_type": "code",
   "execution_count": 138,
   "metadata": {
    "id": "37iJOUjLmkPg",
    "outputId": "5bc3ab17-9cee-477c-db7d-c46043f6cb1e"
   },
   "outputs": [
    {
     "data": {
      "text/plain": [
       "{'ann', 'bob', 'sue', 'tom', 'vic'}"
      ]
     },
     "execution_count": 138,
     "metadata": {},
     "output_type": "execute_result"
    }
   ],
   "source": [
    "engineers | managers"
   ]
  },
  {
   "cell_type": "code",
   "execution_count": 139,
   "metadata": {
    "id": "q2qhDLU5mkPh",
    "outputId": "f64db629-bc11-4f5c-cc60-4cfa600f04cc"
   },
   "outputs": [
    {
     "data": {
      "text/plain": [
       "{'ann', 'bob', 'vic'}"
      ]
     },
     "execution_count": 139,
     "metadata": {},
     "output_type": "execute_result"
    }
   ],
   "source": [
    "engineers - managers"
   ]
  }
 ],
 "metadata": {
  "colab": {
   "provenance": []
  },
  "kernelspec": {
   "display_name": "Python 3 (ipykernel)",
   "language": "python",
   "name": "python3"
  },
  "language_info": {
   "codemirror_mode": {
    "name": "ipython",
    "version": 3
   },
   "file_extension": ".py",
   "mimetype": "text/x-python",
   "name": "python",
   "nbconvert_exporter": "python",
   "pygments_lexer": "ipython3",
   "version": "3.11.5"
  }
 },
 "nbformat": 4,
 "nbformat_minor": 1
}
